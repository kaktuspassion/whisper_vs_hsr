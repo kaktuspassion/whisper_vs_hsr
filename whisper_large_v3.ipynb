{
  "cells": [
    {
      "cell_type": "code",
      "execution_count": 2,
      "id": "4c21d260",
      "metadata": {
        "_kg_hide-output": true,
        "execution": {
          "iopub.execute_input": "2023-11-15T14:27:58.925486Z",
          "iopub.status.busy": "2023-11-15T14:27:58.925078Z",
          "iopub.status.idle": "2023-11-15T14:29:16.457594Z",
          "shell.execute_reply": "2023-11-15T14:29:16.456520Z"
        },
        "papermill": {
          "duration": 77.539237,
          "end_time": "2023-11-15T14:29:16.460205",
          "exception": false,
          "start_time": "2023-11-15T14:27:58.920968",
          "status": "completed"
        },
        "tags": [],
        "colab": {
          "base_uri": "https://localhost:8080/"
        },
        "id": "4c21d260",
        "outputId": "8a3dd180-f564-42fc-ab09-66b840d4bc56"
      },
      "outputs": [
        {
          "output_type": "stream",
          "name": "stdout",
          "text": [
            "Collecting openai-whisper\n",
            "  Downloading openai-whisper-20231117.tar.gz (798 kB)\n",
            "\u001b[2K     \u001b[90m━━━━━━━━━━━━━━━━━━━━━━━━━━━━━━━━━━━━━━━━\u001b[0m \u001b[32m798.6/798.6 kB\u001b[0m \u001b[31m3.8 MB/s\u001b[0m eta \u001b[36m0:00:00\u001b[0m\n",
            "\u001b[?25h  Installing build dependencies ... \u001b[?25l\u001b[?25hdone\n",
            "  Getting requirements to build wheel ... \u001b[?25l\u001b[?25hdone\n",
            "  Preparing metadata (pyproject.toml) ... \u001b[?25l\u001b[?25hdone\n",
            "Requirement already satisfied: triton<3,>=2.0.0 in /usr/local/lib/python3.10/dist-packages (from openai-whisper) (2.1.0)\n",
            "Requirement already satisfied: numba in /usr/local/lib/python3.10/dist-packages (from openai-whisper) (0.58.1)\n",
            "Requirement already satisfied: numpy in /usr/local/lib/python3.10/dist-packages (from openai-whisper) (1.23.5)\n",
            "Requirement already satisfied: torch in /usr/local/lib/python3.10/dist-packages (from openai-whisper) (2.1.0+cu121)\n",
            "Requirement already satisfied: tqdm in /usr/local/lib/python3.10/dist-packages (from openai-whisper) (4.66.1)\n",
            "Requirement already satisfied: more-itertools in /usr/local/lib/python3.10/dist-packages (from openai-whisper) (10.1.0)\n",
            "Collecting tiktoken (from openai-whisper)\n",
            "  Downloading tiktoken-0.5.2-cp310-cp310-manylinux_2_17_x86_64.manylinux2014_x86_64.whl (2.0 MB)\n",
            "\u001b[2K     \u001b[90m━━━━━━━━━━━━━━━━━━━━━━━━━━━━━━━━━━━━━━━━\u001b[0m \u001b[32m2.0/2.0 MB\u001b[0m \u001b[31m79.3 MB/s\u001b[0m eta \u001b[36m0:00:00\u001b[0m\n",
            "\u001b[?25hRequirement already satisfied: filelock in /usr/local/lib/python3.10/dist-packages (from triton<3,>=2.0.0->openai-whisper) (3.13.1)\n",
            "Requirement already satisfied: llvmlite<0.42,>=0.41.0dev0 in /usr/local/lib/python3.10/dist-packages (from numba->openai-whisper) (0.41.1)\n",
            "Requirement already satisfied: regex>=2022.1.18 in /usr/local/lib/python3.10/dist-packages (from tiktoken->openai-whisper) (2023.6.3)\n",
            "Requirement already satisfied: requests>=2.26.0 in /usr/local/lib/python3.10/dist-packages (from tiktoken->openai-whisper) (2.31.0)\n",
            "Requirement already satisfied: typing-extensions in /usr/local/lib/python3.10/dist-packages (from torch->openai-whisper) (4.5.0)\n",
            "Requirement already satisfied: sympy in /usr/local/lib/python3.10/dist-packages (from torch->openai-whisper) (1.12)\n",
            "Requirement already satisfied: networkx in /usr/local/lib/python3.10/dist-packages (from torch->openai-whisper) (3.2.1)\n",
            "Requirement already satisfied: jinja2 in /usr/local/lib/python3.10/dist-packages (from torch->openai-whisper) (3.1.2)\n",
            "Requirement already satisfied: fsspec in /usr/local/lib/python3.10/dist-packages (from torch->openai-whisper) (2023.6.0)\n",
            "Requirement already satisfied: charset-normalizer<4,>=2 in /usr/local/lib/python3.10/dist-packages (from requests>=2.26.0->tiktoken->openai-whisper) (3.3.2)\n",
            "Requirement already satisfied: idna<4,>=2.5 in /usr/local/lib/python3.10/dist-packages (from requests>=2.26.0->tiktoken->openai-whisper) (3.6)\n",
            "Requirement already satisfied: urllib3<3,>=1.21.1 in /usr/local/lib/python3.10/dist-packages (from requests>=2.26.0->tiktoken->openai-whisper) (2.0.7)\n",
            "Requirement already satisfied: certifi>=2017.4.17 in /usr/local/lib/python3.10/dist-packages (from requests>=2.26.0->tiktoken->openai-whisper) (2023.11.17)\n",
            "Requirement already satisfied: MarkupSafe>=2.0 in /usr/local/lib/python3.10/dist-packages (from jinja2->torch->openai-whisper) (2.1.3)\n",
            "Requirement already satisfied: mpmath>=0.19 in /usr/local/lib/python3.10/dist-packages (from sympy->torch->openai-whisper) (1.3.0)\n",
            "Building wheels for collected packages: openai-whisper\n",
            "  Building wheel for openai-whisper (pyproject.toml) ... \u001b[?25l\u001b[?25hdone\n",
            "  Created wheel for openai-whisper: filename=openai_whisper-20231117-py3-none-any.whl size=801356 sha256=602908b565678b4ca8e70ae0d7b7102c57e75ac3550325fef0cedc496cd6b3b9\n",
            "  Stored in directory: /root/.cache/pip/wheels/d0/85/e1/9361b4cbea7dd4b7f6702fa4c3afc94877952eeb2b62f45f56\n",
            "Successfully built openai-whisper\n",
            "Installing collected packages: tiktoken, openai-whisper\n",
            "\u001b[31mERROR: pip's dependency resolver does not currently take into account all the packages that are installed. This behaviour is the source of the following dependency conflicts.\n",
            "llmx 0.0.15a0 requires cohere, which is not installed.\n",
            "llmx 0.0.15a0 requires openai, which is not installed.\u001b[0m\u001b[31m\n",
            "\u001b[0mSuccessfully installed openai-whisper-20231117 tiktoken-0.5.2\n",
            "Get:1 https://cloud.r-project.org/bin/linux/ubuntu jammy-cran40/ InRelease [3,626 B]\n",
            "Hit:2 https://developer.download.nvidia.com/compute/cuda/repos/ubuntu2204/x86_64  InRelease\n",
            "Hit:3 http://archive.ubuntu.com/ubuntu jammy InRelease\n",
            "Get:4 http://security.ubuntu.com/ubuntu jammy-security InRelease [110 kB]\n",
            "Get:5 http://archive.ubuntu.com/ubuntu jammy-updates InRelease [119 kB]\n",
            "Hit:6 https://ppa.launchpadcontent.net/c2d4u.team/c2d4u4.0+/ubuntu jammy InRelease\n",
            "Hit:7 https://ppa.launchpadcontent.net/deadsnakes/ppa/ubuntu jammy InRelease\n",
            "Hit:8 https://ppa.launchpadcontent.net/graphics-drivers/ppa/ubuntu jammy InRelease\n",
            "Hit:9 https://ppa.launchpadcontent.net/ubuntugis/ppa/ubuntu jammy InRelease\n",
            "Hit:10 http://archive.ubuntu.com/ubuntu jammy-backports InRelease\n",
            "Get:11 http://security.ubuntu.com/ubuntu jammy-security/restricted amd64 Packages [1,586 kB]\n",
            "Get:12 http://archive.ubuntu.com/ubuntu jammy-updates/restricted amd64 Packages [1,614 kB]\n",
            "Get:13 http://security.ubuntu.com/ubuntu jammy-security/multiverse amd64 Packages [44.6 kB]\n",
            "Get:14 http://security.ubuntu.com/ubuntu jammy-security/universe amd64 Packages [1,047 kB]\n",
            "Get:15 http://security.ubuntu.com/ubuntu jammy-security/main amd64 Packages [1,335 kB]\n",
            "Get:16 http://archive.ubuntu.com/ubuntu jammy-updates/main amd64 Packages [1,605 kB]\n",
            "Get:17 http://archive.ubuntu.com/ubuntu jammy-updates/multiverse amd64 Packages [50.4 kB]\n",
            "Get:18 http://archive.ubuntu.com/ubuntu jammy-updates/universe amd64 Packages [1,307 kB]\n",
            "Fetched 8,823 kB in 4s (2,290 kB/s)\n",
            "Reading package lists... Done\n",
            "Building dependency tree... Done\n",
            "Reading state information... Done\n",
            "24 packages can be upgraded. Run 'apt list --upgradable' to see them.\n",
            "Reading package lists... Done\n",
            "Building dependency tree... Done\n",
            "Reading state information... Done\n",
            "ffmpeg is already the newest version (7:4.4.2-0ubuntu0.22.04.1).\n",
            "0 upgraded, 0 newly installed, 0 to remove and 24 not upgraded.\n",
            "Collecting setuptools-rust\n",
            "  Downloading setuptools_rust-1.8.1-py3-none-any.whl (26 kB)\n",
            "Requirement already satisfied: setuptools>=62.4 in /usr/local/lib/python3.10/dist-packages (from setuptools-rust) (67.7.2)\n",
            "Collecting semantic-version<3,>=2.8.2 (from setuptools-rust)\n",
            "  Downloading semantic_version-2.10.0-py2.py3-none-any.whl (15 kB)\n",
            "Requirement already satisfied: tomli>=1.2.1 in /usr/local/lib/python3.10/dist-packages (from setuptools-rust) (2.0.1)\n",
            "Installing collected packages: semantic-version, setuptools-rust\n",
            "Successfully installed semantic-version-2.10.0 setuptools-rust-1.8.1\n"
          ]
        }
      ],
      "source": [
        "!pip install -U openai-whisper\n",
        "!sudo apt update && sudo apt install ffmpeg\n",
        "!pip install setuptools-rust"
      ]
    },
    {
      "cell_type": "code",
      "execution_count": null,
      "id": "cc297717",
      "metadata": {
        "execution": {
          "iopub.execute_input": "2023-11-15T14:29:20.975940Z",
          "iopub.status.busy": "2023-11-15T14:29:20.975591Z",
          "iopub.status.idle": "2023-11-15T14:30:53.416185Z",
          "shell.execute_reply": "2023-11-15T14:30:53.415154Z"
        },
        "papermill": {
          "duration": 92.505747,
          "end_time": "2023-11-15T14:30:53.465491",
          "exception": false,
          "start_time": "2023-11-15T14:29:20.959744",
          "status": "completed"
        },
        "tags": [],
        "id": "cc297717"
      },
      "outputs": [],
      "source": [
        "import whisper\n",
        "model = whisper.load_model(\"large-v2\")"
      ]
    },
    {
      "cell_type": "code",
      "source": [
        "# show parameters number of whisper-large-v2\n",
        "import numpy as np\n",
        "print(\n",
        "    f\"Model is {'multilingual' if model.is_multilingual else 'English-only'} \"\n",
        "    f\"and has {sum(np.prod(p.shape) for p in model.parameters()):,} parameters.\"\n",
        ")\n",
        "# Model is multilingual and has 1,541,384,960 parameters."
      ],
      "metadata": {
        "colab": {
          "base_uri": "https://localhost:8080/"
        },
        "id": "IDyVcJAenyC9",
        "outputId": "8d1b736e-0a48-4a43-ab12-0dca73f9387d"
      },
      "id": "IDyVcJAenyC9",
      "execution_count": null,
      "outputs": [
        {
          "output_type": "stream",
          "name": "stdout",
          "text": [
            "Model is multilingual and has 1,541,384,960 parameters.\n"
          ]
        }
      ]
    },
    {
      "cell_type": "code",
      "source": [
        "for i in range(1, 17):\n",
        "  result = model.transcribe(f\"{i}.wav}\")\n",
        "  print(result[\"text\"])"
      ],
      "metadata": {
        "colab": {
          "base_uri": "https://localhost:8080/"
        },
        "id": "btlKDqMwoGAQ",
        "outputId": "a35ce995-5b88-4df4-c8cd-5bb9d07c8c2e"
      },
      "id": "btlKDqMwoGAQ",
      "execution_count": null,
      "outputs": [
        {
          "output_type": "stream",
          "name": "stdout",
          "text": [
            "他顧愛試玩運動,也與時間總是帶著他的滑板去訓練場練習。\n",
            "为了专心论文并深入研究这个主题,我需要去图书馆借一遍援助。\n",
            "拿到厨房后,我根据医生的叮嘱去药房买了药,并且每日按序服用。\n",
            "但是老师对他并不懦弱,你不能因此就欺负他。\n",
            "这是他的笔迹,说明这是他本人亲自签署的文件。\n",
            "这个讲座内容简直是唠声畅谈,没有任何新的观点或见解。\n",
            "我是不会听从你的建议的。时间才是学习的最好方式。\n",
            "今天可是我们来讲讲李白的故事《王庐山木木》\n",
            "两边的山脊如莲苗,山石脊平缓,边上长着蓉蓉的细草。\n",
            "鸳鸯楼好像是从洞底湖里长出来的,站在楼上可以看到湖中翻转来往一个湖滩。\n",
            "将茶叶植于烤炭罐中,放在烫锅上烤的粄条,倒入滚水,插香薄饼\n",
            "快到天气鲜了,才有月亮变白云,凉得心中一残,像美丽的贝壳一般。\n",
            "月光如流水一般,静静地倾斜在叶子和花上,薄薄的晴雾浮起在荷塘里。\n",
            "一案紅瘦淚行頭書,春天花伐時,在風裡嬌美地笑著。\n",
            "这里土地富饶,雨水丰厚,每一个角落都沐浴在自然的神奇之中。\n",
            "秋风骚过稻田,花儿倾波浪翻滚,像是临时长河中的一叶一片长。\n"
          ]
        }
      ]
    },
    {
      "cell_type": "code",
      "source": [
        "import whisper\n",
        "model = whisper.load_model(\"large-v3\")\n",
        "\n",
        "# show parameters number of whisper-large-v3\n",
        "import numpy as np\n",
        "print(\n",
        "    f\"Model is {'multilingual' if model.is_multilingual else 'English-only'} \"\n",
        "    f\"and has {sum(np.prod(p.shape) for p in model.parameters()):,} parameters.\"\n",
        ")\n",
        "# Model is multilingual and has 1,541,384,960 parameters."
      ],
      "metadata": {
        "id": "mfSBzt3FxKxf",
        "colab": {
          "base_uri": "https://localhost:8080/"
        },
        "outputId": "76c68f11-dcc5-4171-8f10-70fe0dfbf025"
      },
      "id": "mfSBzt3FxKxf",
      "execution_count": 3,
      "outputs": [
        {
          "output_type": "stream",
          "name": "stderr",
          "text": [
            "100%|██████████████████████████████████████| 2.88G/2.88G [00:26<00:00, 116MiB/s]\n"
          ]
        },
        {
          "output_type": "stream",
          "name": "stdout",
          "text": [
            "Model is multilingual and has 1,541,570,560 parameters.\n"
          ]
        }
      ]
    },
    {
      "cell_type": "code",
      "source": [
        "for i in range(1, 17):\n",
        "  result = model.transcribe(f\"{i}.wav\")\n",
        "  print(result[\"text\"])"
      ],
      "metadata": {
        "id": "FUp3Tp93xYQw",
        "colab": {
          "base_uri": "https://localhost:8080/"
        },
        "outputId": "3808b2f9-7b5e-41cb-c24d-afa743992662"
      },
      "id": "FUp3Tp93xYQw",
      "execution_count": 5,
      "outputs": [
        {
          "output_type": "stream",
          "name": "stdout",
          "text": [
            "他国外示范运动业余时间总是带着他的滑板去训练场练习\n",
            "为了专心论文评审入研究这个主题我需要去图书馆借一位员主\n",
            "拿到厨房后,我根据医生的订出去药房买了药,并且每日按需服用。\n",
            "但是老实的他并不懦弱你不能一次就欺负他\n",
            "这是他的笔迹说明这是他本人亲自签署的文件\n",
            "这个讲座内容简直是老生常态没有任何新的管理或剪辑\n",
            "我是不会听从你的建议的时间在这缺陷最好方式\n",
            "今天可是我们来讲讲礼拜的故事网络神风\n",
            "两边的山脊乎连绵,山石起平缓,边山长着融入了西草。\n",
            "原样楼好像直接从冬天湖里长出来的站在楼上可以看到湖中翻成来往一个湖滩\n",
            "将茶叶置于烤盘中放在灯火上烤的半焦倒入滚水茶香扑鼻\n",
            "快到天气新了,才有一两片白云,两朵鲜出一彩,像美丽的贝壳一般。\n",
            "月光如流水一般静静地倾泻在椅子和花上薄薄的景物浮起在河道里\n",
            "烟火中的一行党书春天画发时在风里娇美地笑着\n",
            "这里土地富饶雨水风火每一个角落都沐浴在自然的神奇之中\n",
            "秋风骚过到天 黄金波浪翻滚像是李时长和钟队一夜一片长\n"
          ]
        }
      ]
    }
  ],
  "metadata": {
    "kaggle": {
      "accelerator": "gpu",
      "dataSources": [],
      "isGpuEnabled": true,
      "isInternetEnabled": true,
      "language": "python",
      "sourceType": "notebook"
    },
    "kernelspec": {
      "display_name": "Python 3",
      "name": "python3"
    },
    "language_info": {
      "codemirror_mode": {
        "name": "ipython",
        "version": 3
      },
      "file_extension": ".py",
      "mimetype": "text/x-python",
      "name": "python",
      "nbconvert_exporter": "python",
      "pygments_lexer": "ipython3",
      "version": "3.10.12"
    },
    "papermill": {
      "default_parameters": {},
      "duration": 180.745714,
      "end_time": "2023-11-15T14:30:56.012345",
      "environment_variables": {},
      "exception": null,
      "input_path": "__notebook__.ipynb",
      "output_path": "__notebook__.ipynb",
      "parameters": {},
      "start_time": "2023-11-15T14:27:55.266631",
      "version": "2.4.0"
    },
    "colab": {
      "provenance": [],
      "gpuType": "T4"
    },
    "accelerator": "GPU"
  },
  "nbformat": 4,
  "nbformat_minor": 5
}